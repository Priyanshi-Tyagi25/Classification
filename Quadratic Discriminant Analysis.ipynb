{
 "cells": [
  {
   "cell_type": "code",
   "execution_count": 9,
   "id": "5f954a69",
   "metadata": {},
   "outputs": [],
   "source": [
    "#Import all the necessary libraries\n",
    "import pandas as pd\n",
    "from sklearn.model_selection import train_test_split\n",
    "from sklearn.discriminant_analysis import QuadraticDiscriminantAnalysis\n",
    "from sklearn.metrics import accuracy_score, classification_report\n",
    "\n",
    "#Creating a QDA classifier\n",
    "def train_qda_classifier(df, target_column):\n",
    "    \n",
    "    # Seperate features and target\n",
    "    X = df.drop(columns=[target_column])\n",
    "    y = df[target_column]\n",
    "    \n",
    "    #Seperate data into train and test sets\n",
    "    X_train, X_test, y_train, y_test = train_test_split(X, y, test_size = 0.2, random_state= 42)\n",
    "    \n",
    "    #Initaialize QDA model\n",
    "    model = QuadraticDiscriminantAnalysis()\n",
    "    \n",
    "    #Train the model\n",
    "    model.fit(X_train, y_train)\n",
    "    \n",
    "    #Make predictions\n",
    "    y_pred = model.predict(X_test)\n",
    "    \n",
    "    #Evaluating the model\n",
    "    accuracy = accuracy_score(y_test, y_pred)\n",
    "    report = classification_report(y_test, y_pred)\n",
    "    \n",
    "    return model, report, accuracy"
   ]
  },
  {
   "cell_type": "code",
   "execution_count": 10,
   "id": "992f951f",
   "metadata": {},
   "outputs": [
    {
     "name": "stdout",
     "output_type": "stream",
     "text": [
      "Accuracy:  0.9666666666666667\n",
      "\n",
      "Classification Report:\n",
      "               precision    recall  f1-score   support\n",
      "\n",
      "           0       1.00      1.00      1.00        10\n",
      "           1       1.00      0.89      0.94         9\n",
      "           2       0.92      1.00      0.96        11\n",
      "\n",
      "    accuracy                           0.97        30\n",
      "   macro avg       0.97      0.96      0.97        30\n",
      "weighted avg       0.97      0.97      0.97        30\n",
      "\n"
     ]
    }
   ],
   "source": [
    "from sklearn.datasets import load_iris\n",
    "\n",
    "#Load dataset into a DataFrame\n",
    "iris = load_iris(as_frame = True)\n",
    "df = iris.frame    #iris data in pandas DataFrame format\n",
    "\n",
    "#Train QDA on Iris\n",
    "model, report, accuracy = train_qda_classifier(df, target_column = \"target\")\n",
    "\n",
    "print(\"Accuracy: \", accuracy)\n",
    "print(\"\\nClassification Report:\\n\", report)"
   ]
  },
  {
   "cell_type": "code",
   "execution_count": null,
   "id": "c865661d",
   "metadata": {},
   "outputs": [],
   "source": []
  }
 ],
 "metadata": {
  "kernelspec": {
   "display_name": "Python 3",
   "language": "python",
   "name": "python3"
  },
  "language_info": {
   "codemirror_mode": {
    "name": "ipython",
    "version": 3
   },
   "file_extension": ".py",
   "mimetype": "text/x-python",
   "name": "python",
   "nbconvert_exporter": "python",
   "pygments_lexer": "ipython3",
   "version": "3.8.8"
  }
 },
 "nbformat": 4,
 "nbformat_minor": 5
}
